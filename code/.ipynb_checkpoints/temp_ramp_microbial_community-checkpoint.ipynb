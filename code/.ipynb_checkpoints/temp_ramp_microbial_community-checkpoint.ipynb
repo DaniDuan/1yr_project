{
 "cells": [
  {
   "cell_type": "markdown",
   "metadata": {},
   "source": [
    "# Impacts of changing temperature on microbial community structure and functioning\n",
    "\n",
    "Danica"
   ]
  },
  {
   "cell_type": "markdown",
   "metadata": {},
   "source": [
    "## The Lotka–Volterra model\n"
   ]
  },
  {
   "cell_type": "markdown",
   "metadata": {},
   "source": [
    "\\begin{equation}\n",
    "\\frac{1}{C_i}\\frac{dC_i}{dt}  =r_i(T) - \\alpha_{ii}(T)C_i+\\sum_{j \\neq i}^N \\alpha_{ij}(T)C_j\n",
    "\\end{equation}"
   ]
  },
  {
   "cell_type": "markdown",
   "metadata": {},
   "source": [
    "\n",
    "| Parameter symbol | Parameter name | Initial value |\n",
    "|---|---|---|\n",
    "| $N$ | Number of species | 3 |\n",
    "| $C_i$ | Species biomass | Obs |\n",
    "| $r_i$ | Maximum growth rate | Temperature dependent |\n",
    "| $\\alpha_{ii}$ | Intraspecies interaction | Temperature dependent |\n",
    "| $\\alpha_{ij}$ | Interspecies interaction | Temperature dependant |\n",
    "\n",
    "For positive interaction: $\\alpha_{ij}>0$; for negative interaction: $\\alpha_{ij}<0$"
   ]
  },
  {
   "cell_type": "markdown",
   "metadata": {},
   "source": [
    "### At steady state\n",
    "#### 1 species\n",
    "\n",
    "\\begin{equation*}\n",
    "C_i = \\frac{r_i}{\\alpha_{ii}}\n",
    "\\end{equation*}\n",
    "\n",
    "Carrying capacity $K_i = r_i/\\alpha_{ii}$\n",
    "\n",
    "#### 2 species\n",
    "\n",
    "\\begin{equation*}\n",
    "\\frac{dC_i}{dt}  =C_i(r_i - \\alpha_{ii}C_i +\\alpha C_j) ; \\frac{dC_j}{dt}  =C_j(r_j- \\alpha_{jj}C_j +\\alpha C_i)\n",
    "\\end{equation*}\n",
    "\n",
    "\\begin{equation*}\n",
    "C_i = \\frac{\\alpha_{jj}r_i + \\alpha r_j}{\\alpha_{ii}\\alpha_{jj} - \\alpha^2}\n",
    "\\end{equation*}\n",
    "\n",
    "#### Multiple species\n",
    "\n",
    "\\begin{equation*}\n",
    "C_i = \\frac{r_i + \\sum_{j \\neq i}^N \\alpha_{ij}C_j}{\\alpha_{ii}}\n",
    "\\end{equation*}"
   ]
  },
  {
   "cell_type": "markdown",
   "metadata": {},
   "source": [
    "### 3 species system\n",
    "- following the paper (Strobeck, C., 1973. N species competition. Ecology, 54(3), pp.650-654.)\n",
    "\n",
    "\\begin{align}\n",
    "\\frac{dC_i}{dt} = C_i(r_i - \\alpha_{ii}C_i + \\alpha_{ij}C_j + \\alpha_{ik}C_k) \\\\\n",
    "\\frac{dC_j}{dt} = C_j(r_j - \\alpha_{jj}C_j + \\alpha_{ji}C_i + \\alpha_{jk}C_k) \\\\\n",
    "\\frac{dC_k}{dt} = C_k(r_i - \\alpha_{kk}C_k + \\alpha_{ki}C_i + \\alpha_{kj}C_j)\n",
    "\\end{align}\n",
    "\n",
    "Equilibrium:\n",
    "\\begin{align*}\n",
    "r_i = \\alpha_{ii}C_i - \\alpha_{ij}C_j - \\alpha_{ik}C_k \\\\\n",
    "r_j = \\alpha_{jj}C_j - \\alpha_{ji}C_i - \\alpha_{jk}C_k \\\\\n",
    "r_k = \\alpha_{kk}C_k - \\alpha_{ki}C_i - \\alpha_{kj}C_j\n",
    "\\end{align*}\n",
    "\n",
    "For $\\mathbf{r} = \\mathbf{A} \\mathbf{C}$\n",
    "\n",
    "\\begin{align*}\n",
    "\\mathbf{A} & = \\begin{bmatrix} \\alpha_{ii} & -\\alpha_{ij} & -\\alpha_{ik} \\\\ -\\alpha_{ji} & \\alpha_{jj} & -\\alpha_{jk} \\\\ -\\alpha_{ki} & -\\alpha_{kj} & \\alpha_{kk} \\end{bmatrix} = \\alpha_{ii}\\alpha_{jj}\\alpha_{kk} - \\alpha_{ij}\\alpha_{jk}\\alpha_{ki} - \\alpha_{ji}\\alpha_{kj}\\alpha_{ik} - \\alpha_{ik}\\alpha_{ki}\\alpha_{jj} - \\alpha_{jk}\\alpha_{kj}\\alpha_{ii} - \\alpha_{ij}\\alpha_{ji}\\alpha_{kk}\n",
    "\\end{align*}\n",
    "\n",
    "\\begin{equation*}\n",
    "\\begin{bmatrix} r_i \\\\ r_j \\\\ r_k \\end{bmatrix} = \\begin{bmatrix} \\alpha_{ii} & -\\alpha_{ij} & -\\alpha_{ik} \\\\ -\\alpha_{ji} & \\alpha_{jj} & -\\alpha_{jk} \\\\ -\\alpha_{ki} & -\\alpha_{kj} & \\alpha_{kk} \\end{bmatrix} \\begin{bmatrix} C_i \\\\ C_j \\\\ C_k \\end{bmatrix}\n",
    "\\end{equation*}"
   ]
  },
  {
   "cell_type": "markdown",
   "metadata": {},
   "source": [
    "Cramer's rule:\n",
    "\n",
    "\\begin{align}\n",
    "C_i = \\frac{\\begin{bmatrix} r_i & -\\alpha_{ij} & -\\alpha_{ik} \\\\ r_j & \\alpha_{jj} & -\\alpha_{jk} \\\\ r_k & -\\alpha_{kj} & \\alpha_{kk} \\end{bmatrix}}{\\mathbf{A}} , C_j = \\frac{\\begin{bmatrix} \\alpha_{ii} & r_i & -\\alpha_{ik} \\\\ -\\alpha_{ji} & r_j & -\\alpha_{jk} \\\\ -\\alpha_{ki} & r_k & \\alpha_{kk} \\end{bmatrix}}{\\mathbf{A}} , \n",
    "C_k = \\frac{\\begin{bmatrix} \\alpha_{ii} & -\\alpha_{ij} & r_i \\\\ -\\alpha_{ji} & \\alpha_{jj} & r_j \\\\ -\\alpha_{ki} & -\\alpha_{kj} & r_k \\end{bmatrix}}{\\mathbf{A}}\n",
    "\\end{align}\n",
    "\n",
    "When the $i^{th}$ species is starting from rare, the interactions and the $r$ values of other species does not contribute to the increase of its biomass. Therefore, taken minors at the $i^{th}$ row and if the minor is positive:\n",
    "\n",
    "\\begin{align*}\n",
    "\\begin{bmatrix} \\alpha_{jj} & -\\alpha_{jk} \\\\ -\\alpha_{kj} & \\alpha_{kk}\\end{bmatrix} > 0; \n",
    "\\begin{bmatrix} \\alpha_{ii} & -\\alpha_{ik} \\\\ -\\alpha_{ki} & \\alpha_{kk}\\end{bmatrix} > 0;\n",
    "\\begin{bmatrix} \\alpha_{ii} & -\\alpha_{ij} \\\\ -\\alpha_{ji} & \\alpha_{jj}\\end{bmatrix} > 0\n",
    "\\end{align*}\n",
    "\n",
    "Then the species abundance can increase. "
   ]
  },
  {
   "cell_type": "markdown",
   "metadata": {},
   "source": [
    "At equilibrium, for $dC_i/dt = f_1(C_i, C_j, C_k)$ ; $dC_j/dt = f_2(C_i, C_j, C_k)$ ; $dC_k/dt = f_3(C_i, C_j, C_k)$ in equation 2,3,4\n",
    "\n",
    "\\begin{align*}\n",
    "\\mathbf{J} & = \\begin{bmatrix} \\frac{\\partial f_1}{\\partial C_i} & \\frac{\\partial f_1}{\\partial C_j} & \\frac{\\partial f_1}{\\partial C_k} \\\\ \\frac{\\partial f_2}{\\partial C_i} & \\frac{\\partial f_2}{\\partial C_j} & \\frac{\\partial f_2}{\\partial C_k} \\\\ \\frac{\\partial f_3}{\\partial C_i} & \\frac{\\partial f_3}{\\partial C_j} & \\frac{\\partial f_3}{\\partial C_k} \\end{bmatrix} \\\\\n",
    "& = \\begin{bmatrix} -\\alpha_{ii}C_i & \\alpha_{ij}C_i & \\alpha_{ik} C_i \\\\ \\alpha_{ji}C_j & -\\alpha_{jj}C_j & \\alpha_{jk}C_j \\\\ \\alpha_{ki}C_k & \\alpha_{kj}C_k & -\\alpha_{kk}C_k \\end{bmatrix} = -diag(\\mathbf{C})\\mathbf{A}\n",
    "\\end{align*}"
   ]
  },
  {
   "cell_type": "markdown",
   "metadata": {},
   "source": [
    "Conditions for coexistence: \n",
    "\n",
    "1) $C_i >0$, $C_j > 0$ and $C_k > 0$ in equation 5\n",
    "\n",
    "2) $\\begin{bmatrix} a_i & a_k \\\\ 1 & a_j \\end{bmatrix} > 0$\n",
    "\n",
    "\\begin{align*}\n",
    "& a_1 = C_i + C_j + C_k \\\\\n",
    "& a_2 = C_iC_j(\\alpha_{ii}\\alpha{jj} - \\alpha{ij}\\alpha{ji}) + C_iC_k(\\alpha_{ii}\\alpha_{kk} - \\alpha_{ik}\\alpha{ki}) + C_jC_k(\\alpha_{jj}\\alpha_{kk} - \\alpha_{jk}\\alpha{kj}) \\\\\n",
    "& a_3 = C_iC_jC_k\\mathbf{A}\n",
    "\\end{align*}"
   ]
  },
  {
   "cell_type": "markdown",
   "metadata": {},
   "source": [
    "#### Interaction \n",
    "\n",
    "In pair-wise system (i & j) - from the interaction paper: \n",
    "\n",
    "$\\frac{dC_i}{dt}  =C_i(r_i+\\alpha_{ij}C_j)$; $\\frac{dC_j}{dt}  =C_j(r_j+\\alpha_{ji}C_i)$\n",
    "\n",
    "$C_i = C_j = \\frac{1}{2} C_{tot} $ and $\\alpha_{ij} = \\alpha_{ji} $, so $\\alpha_{ij} = 2r_{tot} - (r_i + r_j)$\n",
    "\n",
    "Approximate pair-wise interactions into 3 species system."
   ]
  },
  {
   "cell_type": "markdown",
   "metadata": {},
   "source": [
    "## The Microbial Community Model"
   ]
  },
  {
   "cell_type": "markdown",
   "metadata": {},
   "source": [
    "\\begin{equation}\n",
    "dC_i/dt = C_i\\Bigl(\\sum_{\\alpha=1}^{M}U_{i\\alpha}(T)S_\\alpha(1-\\sum_{\\beta=1}^{M}l_{\\alpha \\beta}) - R_i(T)\\Bigl)\n",
    "\\end{equation}\n",
    "\n",
    "\\begin{equation}\n",
    "dS_\\alpha/dt = \\rho_\\alpha - \\sum_{i=1}^{N}\\Bigl(C_iU_{i\\alpha}(T)S_\\alpha-\\sum_{\\beta =1}^{M}C_iU_{i\\beta}(T)S_\\beta l_{\\beta \\alpha}\\Bigl)\n",
    "\\end{equation}\n",
    "\n",
    "| Parameter symbol | Parameter name | Units | Initial value |\n",
    "|---|---|---|---|\n",
    "| $M$ | Number of resources | individuals  | ? |\n",
    "| $N$ | Number of species | individuals  | 3 |\n",
    "| $C_i$ | Bacteria population of species i | mass/volume | Obs |\n",
    "| $S_\\alpha$ | Concentration of resource $\\alpha$ | mass/volume | ? |\n",
    "| $U_{i\\alpha}$ | Uptake of resource $\\alpha$ by species i | 1/time | Temperature dependant |\n",
    "| $R_i$ | Respiration of species i | mass/volume | Temperature dependant |\n",
    "| $l_{\\alpha \\beta}$ | Leakage/transformation fraction | - | ? |\n",
    "| $\\rho_\\alpha$ | Supply of resource $\\alpha$ | mass/volume | ? |"
   ]
  },
  {
   "cell_type": "markdown",
   "metadata": {},
   "source": [
    "### Getting effective LV model\n",
    "\n",
    "Following paper (A Minimal Model...)\n",
    "\n",
    "First, a compact form of MCM:\n",
    "\n",
    "\\begin{align*}\n",
    "&\\frac{dC_i}{dt} =  C_i\\Bigl(\\sum_{\\alpha=1}^{M}U_{i\\alpha}S_\\alpha(1-l_\\alpha) - R_i\\Bigl)\\\\\n",
    "&\\frac{dS_\\alpha}{dt} = \\rho_\\alpha - \\sum_{j\\beta}Q_{\\alpha \\beta}C_jU_{j\\beta}S_\\beta\n",
    "\\end{align*}"
   ]
  },
  {
   "cell_type": "markdown",
   "metadata": {},
   "source": [
    "In which, $Q_{\\alpha \\beta} = \\sum_{j\\beta} \\frac{U_{j\\alpha} S_\\alpha}{U_{j\\beta} S_\\beta} - l_{\\beta \\alpha}$. Assuming resource dynamics reaches equilibrium faster than species biomass. When $dS_\\alpha/dt = 0$, get equilibrium resource concentration $\\hat{S_\\alpha}$ as a function of $C_j$: \n",
    "\\begin{equation*}\n",
    "\\hat{S_\\alpha} = \\frac{\\rho_\\alpha - \\sum_\\beta C_jU_{j\\beta}S_\\beta l_{\\beta \\alpha}}{\\sum_j C_j U_{j\\alpha}}\n",
    "\\end{equation*}"
   ]
  },
  {
   "cell_type": "markdown",
   "metadata": {},
   "source": [
    "Inserting $\\hat{S_\\alpha}(\\{C_j\\})$ in to biomass dynamics, then approximate around $C_j = \\hat{C_j}$ using the first order of Taylor expansion: \n",
    "\n",
    "\\begin{align*}\n",
    "\\frac{dC_i}{dt} & = C_i \\Bigl(\\sum_{\\alpha=1}^{M}U_{i\\alpha}(1-l_\\alpha)\\hat{S_\\alpha}(\\{C_j\\}) - R_i\\Bigl) \\\\\n",
    "& \\approx C_i \\Bigl(\\sum_{\\alpha j}U_{i\\alpha}(1-l_\\alpha)\\frac{\\partial \\hat{S}}{\\partial C_j}(C_j - \\hat{C_j}) - R_i\\Bigl) \\\\\n",
    "& = C_i(r_i+\\sum_j \\alpha_{ij}C_j)\n",
    "\\end{align*}\n",
    "\n",
    "Where\n",
    "\\begin{align}\n",
    "& \\alpha_{ij} = \\sum_\\alpha U_{i\\alpha}(1 - l_\\alpha)\\frac{\\partial \\hat{S}}{\\partial C_j} \\\\\n",
    "& r_i = -\\sum_j \\alpha_{ij} \\hat{C_j} - R_i\n",
    "\\end{align}"
   ]
  },
  {
   "cell_type": "markdown",
   "metadata": {},
   "source": [
    "#### 1 species + 1 resource\n",
    "\\begin{equation*}\n",
    "\\hat{S} = \\frac{R}{U(1-l)} ; \\hat{C} = \\frac{\\rho}{R}\n",
    "\\end{equation*}\n",
    "\n"
   ]
  },
  {
   "cell_type": "markdown",
   "metadata": {},
   "source": [
    "#### 2 species + 1 resource \n",
    "\\begin{align*}\n",
    "&\\frac{dC_i}{dt} = C_i(U_iS(1-l) - R_i) \\\\\n",
    "&\\frac{dC_j}{dt} = C_j(U_jS(1-l) - R_j) \\\\\n",
    "&\\frac{dS}{dt} = \\rho-(C_iU_i+C_jU_j)S(1-l)\n",
    "\\end{align*}\n",
    "\n",
    "Equilibrium resource concentration: \n",
    "\\begin{equation*}\n",
    "\\hat{S} = \\frac{\\rho}{(C_iU_i+C_jU_j)(1-l)}\n",
    "\\end{equation*}\n",
    "\n",
    "Inserting into biomass dynamics:\n",
    "\\begin{align}\n",
    "\\frac{dC_i}{dt} & = C_i(U_i\\hat{S}(1-l) - R_i)\\\\\n",
    "& = C_i(\\frac{U_i\\rho}{C_iU_i+C_jU_j} - R_i) \\\\\n",
    "& = C_i(r_i+\\sum_j \\alpha_{ij}C_j)\n",
    "\\end{align}\n"
   ]
  },
  {
   "cell_type": "markdown",
   "metadata": {},
   "source": [
    "If consider species intrinsic growth rate $r_i$ as maximum growth rate, it should when all resources are dedicated to the growth of species $i$. In this case, at equilibrium $\\hat{S}^* = \\frac{\\rho}{\\hat{C_i}^* U_i(1-l)}$ (here using * to denote values from the 1 species system), inserting into the biomass dynamics of species $i$:\n",
    "\n",
    "\\begin{align*}\n",
    "\\frac{dC_i}{dt} & = C_i(\\frac{\\rho}{\\hat{C_i}^* } - R_i) \\\\\n",
    "& = C_i(r_i + \\alpha_{ii}C_i)\n",
    "\\end{align*}\n",
    "\n",
    "Getting:\n",
    "\\begin{equation}\n",
    "r_i = \\frac{\\rho}{\\hat{C_i}^*} - R_i - \\alpha_{ii}C_i \n",
    "\\end{equation}\n",
    "then back calculate into equation 11 & 12, getting the interaction between species $i$ and $j$: \n",
    "\\begin{equation}\n",
    "\\alpha_{ij} = -\\frac{\\frac{\\rho}{\\hat{C_i}^*} - \\frac{U_i\\rho}{C_iU_i+C_jU_j}}{C_j}\n",
    "\\end{equation}\n",
    "\n",
    "If i = j, the system comes back to be of 1 species. If can assume when $S$ reaches equilibrium, $C_i \\approx \\hat{C_i}^*$, and assume $\\alpha_{ii}$ remains regardless of the system (i.e. not affected by the presence of species $j$), then can get intraspecies interaction: \n",
    "\\begin{equation}\n",
    "\\alpha_{ii} = -\\frac{\\rho}{2C_i^2}\n",
    "\\end{equation}"
   ]
  },
  {
   "cell_type": "markdown",
   "metadata": {},
   "source": [
    "#### 2 species + 2 resources\n",
    "\n",
    "\\begin{align*}\n",
    "\\frac{dS_\\alpha}{dt} = \\rho_\\alpha - (C_iU_{i\\alpha}+C_jU_{j\\alpha})S_\\alpha + (C_iU_{i\\beta}+C_jU_{j\\beta})S_\\beta l_{\\beta \\alpha} \\\\\n",
    "\\frac{dS_\\beta}{dt} = \\rho_\\beta - (C_iU_{i\\beta}+C_jU_{j\\beta})S_\\beta + (C_iU_{i\\alpha}+C_jU_{j\\alpha})S_\\alpha l_{\\alpha \\beta}\n",
    "\\end{align*}\n",
    "\n",
    "At equilibrium,\n",
    "\\begin{align*}\n",
    "\\hat{S_\\alpha} = \\frac{\\rho_\\alpha+(C_iU_{i\\beta}+C_jU_{j\\beta})\\hat{S_\\beta}l_{\\beta \\alpha}}{C_iU_{i\\alpha}+C_jU_{j\\alpha}} \\\\\n",
    "\\hat{S_\\beta} = \\frac{\\rho_\\beta+(C_iU_{i\\alpha}+C_jU_{j\\alpha})\\hat{S_\\alpha}l_{\\alpha \\beta}}{C_iU_{i\\beta}+C_jU_{j\\beta}}\n",
    "\\end{align*}\n",
    "\n",
    "Rearanging $\\hat{S_\\alpha}$ (Same for $\\hat{S_\\beta}$):\n",
    "\\begin{align*}\n",
    "\\hat{S_\\alpha} & = \\frac{\\rho_\\alpha + \\bigl(\\rho_\\beta + (C_iU_{i\\alpha}+C_jU_{j\\alpha})\\hat{S_\\alpha}l_{\\alpha\\beta}\\bigl)l_{\\beta\\alpha}}{C_iU_{i\\alpha}+C_jU_{j\\alpha}} \\\\\n",
    "& = \\frac{\\rho_\\alpha+ \\rho_\\beta l_{\\beta \\alpha}+(C_iU_{i\\alpha}+C_jU_{j\\alpha})\\hat{S_\\alpha}l_{\\alpha\\beta}l_{\\beta\\alpha}}{C_iU_{i\\alpha}+C_jU_{j\\alpha}} \\\\\n",
    "& = \\frac{\\rho_\\alpha+\\rho_\\beta l_{\\beta \\alpha}}{C_iU_{i\\alpha}+C_jU_{j\\alpha}} + \\hat{S_\\alpha}l_{\\alpha\\beta}l_{\\beta\\alpha}\n",
    "\\end{align*}\n",
    "\n",
    "Getting:\n",
    "\\begin{align*}\n",
    "\\hat{S_\\alpha} = \\frac{1}{1 - l_{\\alpha\\beta}l_{\\beta\\alpha}}\\frac{\\rho_\\alpha+\\rho_\\beta l_{\\beta\\alpha}}{C_iU_{i\\alpha}+C_jU_{j\\alpha}} \\\\\n",
    "\\hat{S_\\beta} = \\frac{1}{1 - l_{\\alpha\\beta}l_{\\beta\\alpha}}\\frac{\\rho_\\beta+\\rho_\\alpha l_{\\alpha\\beta}}{C_iU_{i\\beta}+C_jU_{j\\beta}}\n",
    "\\end{align*}"
   ]
  },
  {
   "cell_type": "markdown",
   "metadata": {},
   "source": [
    "Inserting into biomass dynamics:\n",
    "\n",
    "\\begin{align*}\n",
    "\\frac{dC_i}{dt} & = C_i \\bigl( U_{i\\alpha}\\hat{S_\\alpha}(1-l_\\alpha) +U_{i\\beta}\\hat{S_\\beta}(1-l_\\beta) - R_i\\bigl) \\\\\n",
    "& = C_i \\left\\{ \\left[\\frac{(\\rho_\\alpha + \\rho_\\beta l_{\\beta\\alpha})U_{i\\alpha}(1-l_\\alpha)}{C_iU_{i\\alpha}+C_jU_{j\\alpha}} + \\frac{(\\rho_\\beta + \\rho_\\alpha l_{\\alpha\\beta})U_{i\\beta}(1-l_\\beta)}{C_iU_{i\\beta}+C_jU_{j\\beta}}\\right] \\frac{1}{1-l_{\\alpha\\beta}l_{\\beta\\alpha}} - R_i \\right\\} \\\\\n",
    "& = C_i(r_i + \\sum_j \\alpha_{ij}C_j)\n",
    "\\end{align*}\n",
    "\n",
    "Where:\n",
    "\\begin{align*}\n",
    "& \\alpha_{ij} = \\left[\\frac{(\\rho_\\alpha + \\rho_\\beta l_{\\beta\\alpha})U_{i\\alpha}(1-l_\\alpha)}{C_iU_{i\\alpha}+C_jU_{j\\alpha}} + \\frac{(\\rho_\\beta + \\rho_\\alpha l_{\\alpha\\beta})U_{i\\beta}(1-l_\\beta)}{C_iU_{i\\beta}+C_jU_{j\\beta}}\\right] \\frac{1}{(1-l_{\\alpha\\beta}l_{\\beta\\alpha})C_j} \\\\\n",
    "& r_i = -\\alpha_{ii}C_i - R_i\n",
    "\\end{align*}"
   ]
  },
  {
   "cell_type": "markdown",
   "metadata": {},
   "source": [
    "### Temperature dependencies - using the Arrhenius for now\n",
    "\n",
    "\n",
    "\\begin{equation*}\n",
    "B = B_0 \\times {e^{\\frac{-E}{k}\\cdot\\Bigl(\\frac{1}{T} - \\frac{1}{T_r}\\Bigl)}}\n",
    "\\end{equation*}\n",
    "\n",
    "\n",
    "| Parameter symbol | Parameter name | Units | Initial value |\n",
    "|---|---|---|---|\n",
    "| $B$ | Normalisation constant | - | Obs |\n",
    "| $E$ | Activation energy | eV | Obs |\n",
    "| $k$ | Boltsmann constant | eV/K | $8.62$ $\\times 10^{-5}$ |\n",
    "| T | Temperature | K | 283.15-303.15 |\n",
    "| $T_r$| Reference temperature | K | 273.15 |"
   ]
  }
 ],
 "metadata": {
  "kernelspec": {
   "display_name": "Python 3",
   "language": "python",
   "name": "python3"
  },
  "language_info": {
   "codemirror_mode": {
    "name": "ipython",
    "version": 3
   },
   "file_extension": ".py",
   "mimetype": "text/x-python",
   "name": "python",
   "nbconvert_exporter": "python",
   "pygments_lexer": "ipython3",
   "version": "3.8.3"
  },
  "latex_envs": {
   "LaTeX_envs_menu_present": true,
   "autoclose": false,
   "autocomplete": true,
   "bibliofile": "biblio.bib",
   "cite_by": "apalike",
   "current_citInitial": 1,
   "eqLabelWithNumbers": true,
   "eqNumInitial": 1,
   "hotkeys": {
    "equation": "Ctrl-E",
    "itemize": "Ctrl-I"
   },
   "labels_anchors": false,
   "latex_user_defs": false,
   "report_style_numbering": false,
   "user_envs_cfg": false
  }
 },
 "nbformat": 4,
 "nbformat_minor": 4
}
