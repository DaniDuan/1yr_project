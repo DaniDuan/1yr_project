{
 "cells": [
  {
   "cell_type": "markdown",
   "metadata": {},
   "source": [
    "# Impacts of changing temperature on microbial community structure and functioning\n",
    "\n",
    "Danica"
   ]
  },
  {
   "cell_type": "markdown",
   "metadata": {},
   "source": [
    "## The Lotka–Volterra model\n"
   ]
  },
  {
   "cell_type": "markdown",
   "metadata": {},
   "source": [
    "\\begin{equation}\n",
    "\\frac{1}{C_i}\\frac{dC_i}{dt}  =r_i(T) - \\alpha_{ii}(T)C_i+\\sum_{j \\neq i}^N \\alpha_{ij}(T)C_j\n",
    "\\end{equation}"
   ]
  },
  {
   "cell_type": "markdown",
   "metadata": {},
   "source": [
    "\n",
    "| Parameter symbol | Parameter name | Initial value |\n",
    "|---|---|---|\n",
    "| $N$ | Number of species | 3 |\n",
    "| $C_i$ | Species biomass | Obs |\n",
    "| $r_i$ | Maximum growth rate | Temperature dependent |\n",
    "| $\\alpha_{ii}$ | Intraspecies interaction | Temperature dependent |\n",
    "| $\\alpha_{ij}$ | Interspecies interaction | Temperature dependant |\n",
    "\n",
    "For positive interaction: $\\alpha_{ij}>0$; for negative interaction: $\\alpha_{ij}<0$"
   ]
  },
  {
   "cell_type": "markdown",
   "metadata": {},
   "source": [
    "### At steady state\n",
    "#### 1 species\n",
    "\n",
    "\\begin{equation*}\n",
    "C_i = \\frac{r_i}{\\alpha_{ii}}\n",
    "\\end{equation*}\n",
    "\n",
    "Carrying capacity $K_i = r_i/\\alpha_{ii}$\n",
    "\n",
    "#### 2 species\n",
    "\n",
    "\\begin{equation*}\n",
    "\\frac{dC_i}{dt}  =C_i(r_i - \\alpha_{ii}C_i +\\alpha C_j) ; \\frac{dC_j}{dt}  =C_j(r_j- \\alpha_{jj}C_j +\\alpha C_i)\n",
    "\\end{equation*}\n",
    "\n",
    "\\begin{equation*}\n",
    "C_i = \\frac{\\alpha_{jj}r_i + \\alpha r_j}{\\alpha_{ii}\\alpha_{jj} - \\alpha^2}\n",
    "\\end{equation*}\n",
    "\n",
    "#### Multiple species\n",
    "\n",
    "\\begin{equation*}\n",
    "C_i = \\frac{r_i + \\sum_{j \\neq i}^N \\alpha_{ij}C_j}{\\alpha_{ii}}\n",
    "\\end{equation*}"
   ]
  },
  {
   "cell_type": "markdown",
   "metadata": {},
   "source": [
    "### 3 species system\n",
    "- following the paper (Strobeck, C., 1973. N species competition. Ecology, 54(3), pp.650-654.)\n",
    "\n",
    "\\begin{align}\n",
    "\\frac{dC_1}{dt} = C_1(r_1 - \\alpha_{11}C_1 + \\alpha_{12}C_2 + \\alpha_{13}C_3) \\\\\n",
    "\\frac{dC_2}{dt} = C_2(r_2 - \\alpha_{22}C_2 + \\alpha_{21}C_1 + \\alpha_{23}C_3) \\\\\n",
    "\\frac{dC_3}{dt} = C_3(r_i - \\alpha_{33}C_3 + \\alpha_{31}C_1 + \\alpha_{32}C_2)\n",
    "\\end{align}\n",
    "\n",
    "Equilibrium:\n",
    "\\begin{align*}\n",
    "r_1 = \\alpha_{11}C_1 - \\alpha_{12}C_2 - \\alpha_{13}C_3 \\\\\n",
    "r_2 = \\alpha_{22}C_2 - \\alpha_{21}C_1 - \\alpha_{23}C_3 \\\\\n",
    "r_3 = \\alpha_{33}C_3 - \\alpha_{31}C_1 - \\alpha_{32}C_2\n",
    "\\end{align*}\n",
    "\n",
    "For $\\mathbf{r} = \\mathbf{A} \\mathbf{C}$\n",
    "\n",
    "\\begin{align*}\n",
    "\\mathbf{A} & = \\begin{bmatrix} \\alpha_{11} & -\\alpha_{12} & -\\alpha_{13} \\\\ -\\alpha_{21} & \\alpha_{22} & -\\alpha_{23} \\\\ -\\alpha_{31} & -\\alpha_{32} & \\alpha_{33} \\end{bmatrix} = \\alpha_{11}\\alpha_{22}\\alpha_{33} - \\alpha_{12}\\alpha_{23}\\alpha_{31} - \\alpha_{21}\\alpha_{32}\\alpha_{13} - \\alpha_{13}\\alpha_{31}\\alpha_{22} - \\alpha_{23}\\alpha_{32}\\alpha_{11} - \\alpha_{12}\\alpha_{21}\\alpha_{33}\n",
    "\\end{align*}\n",
    "\n",
    "\\begin{equation*}\n",
    "\\begin{bmatrix} r_1 \\\\ r_2 \\\\ r_3 \\end{bmatrix} = \\begin{bmatrix} \\alpha_{11} & -\\alpha_{12} & -\\alpha_{13} \\\\ -\\alpha_{21} & \\alpha_{22} & -\\alpha_{23} \\\\ -\\alpha_{31} & -\\alpha_{32} & \\alpha_{33} \\end{bmatrix} \\begin{bmatrix} C_1 \\\\ C_2 \\\\ C_3 \\end{bmatrix}\n",
    "\\end{equation*}"
   ]
  },
  {
   "cell_type": "markdown",
   "metadata": {},
   "source": [
    "Cramer's rule:\n",
    "\n",
    "\\begin{align}\n",
    "C_1 = \\frac{\\begin{bmatrix} r_1 & -\\alpha_{12} & -\\alpha_{13} \\\\ r_2 & \\alpha_{22} & -\\alpha_{23} \\\\ r_3 & -\\alpha_{32} & \\alpha_{33} \\end{bmatrix}}{\\mathbf{A}} , C_2 = \\frac{\\begin{bmatrix} \\alpha_{11} & r_1 & -\\alpha_{13} \\\\ -\\alpha_{21} & r_2 & -\\alpha_{23} \\\\ -\\alpha_{31} & r_3 & \\alpha_{33} \\end{bmatrix}}{\\mathbf{A}} , \n",
    "C_3 = \\frac{\\begin{bmatrix} \\alpha_{11} & -\\alpha_{12} & r_1 \\\\ -\\alpha_{21} & \\alpha_{22} & r_2 \\\\ -\\alpha_{31} & -\\alpha_{32} & r_3 \\end{bmatrix}}{\\mathbf{A}}\n",
    "\\end{align}"
   ]
  },
  {
   "cell_type": "markdown",
   "metadata": {},
   "source": [
    "For $dC_1/dt = f_1(C_1, C_2, C_3)$ ; $dC_2/dt = f_2(C_1, C_2, C_3)$ ; $dC_3/dt = f_3(C_1, C_2, C_3)$ in equation 2,3,4\n",
    "\n",
    "\\begin{align*}\n",
    "\\mathbf{J} & = \\begin{bmatrix} \\frac{\\partial f_1}{\\partial C_1} & \\frac{\\partial f_1}{\\partial C_2} & \\frac{\\partial f_1}{\\partial C_3} \\\\ \\frac{\\partial f_2}{\\partial C_1} & \\frac{\\partial f_2}{\\partial C_2} & \\frac{\\partial f_2}{\\partial C_3} \\\\ \\frac{\\partial f_3}{\\partial C_1} & \\frac{\\partial f_3}{\\partial C_2} & \\frac{\\partial f_3}{\\partial C_3} \\end{bmatrix} \\\\\n",
    "& = \\begin{bmatrix} -\\alpha_{11}C_1 & \\alpha_{12}C_1 & \\alpha_{13} C_1 \\\\ \\alpha_{21}C_2 & -\\alpha_{22}C_2 & \\alpha_{23}C_2 \\\\ \\alpha_{31}C_3 & \\alpha_{32}C_3 & -\\alpha_{33}C_3 \\end{bmatrix} = -diag(\\mathbf{C})\\mathbf{A}\n",
    "\\end{align*}"
   ]
  },
  {
   "cell_type": "markdown",
   "metadata": {},
   "source": [
    "Conditions for coexistence: \n",
    "\n",
    "1) $C_1 >0$, $C_2 > 0$ and $C_3 > 0$ in equation 5, taken minors at the $i^{th}$ row:\n",
    "\n",
    "\\begin{align*}\n",
    "\\begin{bmatrix} \\alpha_{22} & -\\alpha_{23} \\\\ -\\alpha_{32} & \\alpha_{33}\\end{bmatrix} > 0; \n",
    "\\begin{bmatrix} \\alpha_{11} & -\\alpha_{13} \\\\ -\\alpha_{31} & \\alpha_{33}\\end{bmatrix} > 0;\n",
    "\\begin{bmatrix} \\alpha_{11} & -\\alpha_{12} \\\\ -\\alpha_{21} & \\alpha_{22}\\end{bmatrix} > 0\n",
    "\\end{align*}\n",
    "\n",
    "2) $\\begin{bmatrix} a_1 & a_3 \\\\ 1 & a_2 \\end{bmatrix} > 0$\n",
    "\n",
    "\\begin{align*}\n",
    "& a_1 = C_1 + C_2 + C_3 \\\\\n",
    "& a_2 = C_1C_2(\\alpha_{11}\\alpha{22} - \\alpha{12}\\alpha{21}) + C_1C_3(\\alpha_{11}\\alpha_{33} - \\alpha_{13}\\alpha{31}) + C_2C_3(\\alpha_{22}\\alpha_{33} - \\alpha_{23}\\alpha{32}) \\\\\n",
    "& a_3 = C_1C_2C_3\\mathbf{A}\n",
    "\\end{align*}"
   ]
  },
  {
   "cell_type": "markdown",
   "metadata": {},
   "source": [
    "#### Interaction \n",
    "\n",
    "In pair-wise system (i & j) - from the interaction paper: \n",
    "\n",
    "$\\frac{dC_i}{dt}  =C_i(r_i+\\alpha_{ij}C_j)$; $\\frac{dC_j}{dt}  =C_j(r_j+\\alpha_{ji}C_i)$\n",
    "\n",
    "$C_i = C_j = \\frac{1}{2} C_{tot} $ and $\\alpha_{ij} = \\alpha_{ji} $, so $\\alpha_{ij} = 2r_{tot} - (r_i + r_j)$\n",
    "\n",
    "Approximate pair-wise interactions into 3 species system."
   ]
  },
  {
   "cell_type": "markdown",
   "metadata": {},
   "source": [
    "## The Microbial Community Model"
   ]
  },
  {
   "cell_type": "markdown",
   "metadata": {},
   "source": [
    "\\begin{equation}\n",
    "dC_i/dt = C_i\\Bigl(\\sum_{\\alpha=1}^{M}U_{i\\alpha}(T)S_\\alpha(1-\\sum_{\\beta=1}^{M}l_{\\alpha \\beta}) - R_i(T)\\Bigl)\n",
    "\\end{equation}\n",
    "\n",
    "\\begin{equation}\n",
    "dS_\\alpha/dt = \\rho_\\alpha - \\sum_{i=1}^{N}\\Bigl(C_iU_{i\\alpha}(T)S_\\alpha-\\sum_{\\beta =1}^{M}C_iU_{i\\beta}(T)S_\\beta l_{\\beta \\alpha}\\Bigl)\n",
    "\\end{equation}\n",
    "\n",
    "| Parameter symbol | Parameter name | Units | Initial value |\n",
    "|---|---|---|---|\n",
    "| $M$ | Number of resources | individuals  | ? |\n",
    "| $N$ | Number of species | individuals  | 3 |\n",
    "| $C_i$ | Bacteria population of species i | mass/volume | Obs |\n",
    "| $S_\\alpha$ | Concentration of resource \\alpha | g/mL | ? |\n",
    "| $U_{i\\alpha}$ | Uptake of resource \\alpha by species i | 1/time | Temperature dependant |\n",
    "| $R_i$ | Respiration of species i | mass/volume | Temperature dependant |\n",
    "| $l_{\\alpha \\beta}$ | Leakage/transformation fraction | - | ? |\n",
    "| $\\rho_\\alpha$ | Supply of resource \\alpha | mass/volume | ? |"
   ]
  },
  {
   "cell_type": "markdown",
   "metadata": {},
   "source": [
    "### Getting effective LV model\n",
    "\n",
    "Following paper (A Minimal Model...)\n",
    "\n",
    "First, a compact form of MCM:\n",
    "\n",
    "\\begin{align*}\n",
    "&\\frac{dC_i}{dt} =  C_i\\Bigl(\\sum_{\\alpha=1}^{M}U_{i\\alpha}S_\\alpha(1-l_\\alpha) - R_i\\Bigl)\\\\\n",
    "&\\frac{dS_\\alpha}{dt} = \\rho_\\alpha - \\sum_{j\\beta}Q_{\\alpha \\beta}C_jU_{j\\beta}S_\\beta\n",
    "\\end{align*}"
   ]
  },
  {
   "cell_type": "markdown",
   "metadata": {},
   "source": [
    "In which, $Q_{\\alpha \\beta} = \\sum_{j\\beta} \\frac{U_{j\\alpha} S_\\alpha}{U_{j\\beta} S_\\beta} - l_{\\beta \\alpha}$. Assuming resource dynamics reaches equilibrium faster than species biomass. When $dS_\\alpha/dt = 0$, get equilibrium resource concentration $\\bar{S_\\alpha}$ as a function of $C_j$: \n",
    "\\begin{equation*}\n",
    "\\bar{S_\\alpha} = \\frac{\\rho_\\alpha - \\sum_\\beta C_iU_{i\\beta}S_\\beta l_{\\beta \\alpha}}{\\sum_i C_i U_{i\\alpha}}\n",
    "\\end{equation*}"
   ]
  },
  {
   "cell_type": "markdown",
   "metadata": {},
   "source": [
    "Inserting $\\bar{S_\\alpha}(\\{C_j\\})$ in to biomass dynamics, then approximate around $N_j = \\bar{N_j}$ using the first order of Taylor expansion: \n",
    "\n",
    "\\begin{align*}\n",
    "\\frac{dC_i}{dt} & = C_i \\Bigl(\\sum_{\\alpha=1}^{M}U_{i\\alpha}(1-l_\\alpha)\\bar{S_\\alpha}(\\{C_j\\}) - R_i\\Bigl) \\\\\n",
    "& \\approx C_i \\Bigl(\\sum_{\\alpha=1}^{M}U_{i\\alpha}(1-l_\\alpha)\\frac{\\partial \\bar{S_\\alpha}}{\\partial C_j}(C_j - \\bar{C_j}) - R_i\\Bigl) \\\\\n",
    "& = C_i(r_i+\\sum_j^N \\alpha_{ij}C_j)\n",
    "\\end{align*}\n",
    "\n"
   ]
  },
  {
   "cell_type": "markdown",
   "metadata": {},
   "source": [
    "Where\n",
    "\\begin{align}\n",
    "& \\alpha_{ij} = \\sum_\\alpha U_{i\\alpha}(1 - l_\\alpha)\\frac{\\partial \\bar{S_\\alpha}}{\\partial C_j} \\\\\n",
    "& r_i = -\\sum_j \\alpha_{ij} \\bar{C_j} - R_i\n",
    "\\end{align}"
   ]
  },
  {
   "cell_type": "markdown",
   "metadata": {},
   "source": [
    "### At steady state\n",
    "\n",
    "#### 1 species + 1 resource\n",
    "\\begin{equation*}\n",
    "S_j = \\frac{R_i}{U_{ij}(1-l)} ; C_i = \\frac{\\rho_j}{R_i}\n",
    "\\end{equation*}\n",
    "\n"
   ]
  },
  {
   "cell_type": "markdown",
   "metadata": {},
   "source": [
    "#### 2 species + 1 resource \n",
    "Equilibrium resource concentration: \n",
    "\\begin{equation*}\n",
    "\\bar{S} = \\frac{\\rho}{(C_iU_i+C_jU_j)(1-l)}\n",
    "\\end{equation*}\n",
    "\n",
    "Inserting into biomass dynamics:\n",
    "\\begin{align*}\n",
    "\\frac{dC_i}{dt} & = C_i(U_i\\bar{S}(1-l) - R_i)\\\\\n",
    "& = C_i(\\frac{U_i\\rho}{C_iU_i+C_jU_j} - R_i) \\\\\n",
    "& = C_i(r_i+\\sum_j \\alpha_{ij}C_j)\n",
    "\\end{align*}\n",
    "\n",
    "Where: \n",
    "\\begin{align*}\n",
    "& \\alpha_{ij} = \\frac{U_i\\rho}{(C_iU_i+C_jU_j)C_j} \\\\\n",
    "& r_i = -\\alpha_{ii}C_i - R_i\n",
    "\\end{align*}"
   ]
  },
  {
   "cell_type": "markdown",
   "metadata": {},
   "source": [
    "### Temperature dependencies - using the Arrhenius for now\n",
    "\n",
    "\n",
    "\\begin{equation*}\n",
    "B = B_0 \\times {e^{\\frac{-E}{k}\\cdot\\Bigl(\\frac{1}{T} - \\frac{1}{T_r}\\Bigl)}}\n",
    "\\end{equation*}\n",
    "\n",
    "\n",
    "| Parameter symbol | Parameter name | Units | Initial value |\n",
    "|---|---|---|---|\n",
    "| $B$ | Normalisation constant | - | Obs |\n",
    "| $E$ | Activation energy | eV | Obs |\n",
    "| $k$ | Boltsmann constant | eV/K | $8.62$ $\\times 10^{-5}$ |\n",
    "| T | Temperature | K | 283.15-303.15 |\n",
    "| $T_r$| Reference temperature | K | 273.15 |"
   ]
  }
 ],
 "metadata": {
  "kernelspec": {
   "display_name": "Python 3",
   "language": "python",
   "name": "python3"
  },
  "language_info": {
   "codemirror_mode": {
    "name": "ipython",
    "version": 3
   },
   "file_extension": ".py",
   "mimetype": "text/x-python",
   "name": "python",
   "nbconvert_exporter": "python",
   "pygments_lexer": "ipython3",
   "version": "3.8.3"
  },
  "latex_envs": {
   "LaTeX_envs_menu_present": true,
   "autoclose": false,
   "autocomplete": true,
   "bibliofile": "biblio.bib",
   "cite_by": "apalike",
   "current_citInitial": 1,
   "eqLabelWithNumbers": true,
   "eqNumInitial": 1,
   "hotkeys": {
    "equation": "Ctrl-E",
    "itemize": "Ctrl-I"
   },
   "labels_anchors": false,
   "latex_user_defs": false,
   "report_style_numbering": false,
   "user_envs_cfg": false
  }
 },
 "nbformat": 4,
 "nbformat_minor": 4
}
