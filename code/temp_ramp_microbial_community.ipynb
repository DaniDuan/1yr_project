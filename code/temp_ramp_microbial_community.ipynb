{
 "cells": [
  {
   "cell_type": "markdown",
   "metadata": {},
   "source": [
    "# Impacts of changing temperature on microbial community structure and functioning\n",
    "\n",
    "Danica"
   ]
  },
  {
   "cell_type": "markdown",
   "metadata": {},
   "source": [
    "## The Lotka–Volterra model\n"
   ]
  },
  {
   "cell_type": "markdown",
   "metadata": {},
   "source": [
    "\\begin{equation}\n",
    "\\frac{1}{C_i}\\frac{dC_i}{dt}  =r_i - \\alpha_{ii}C_i+\\sum_{j \\neq i}^N \\alpha_{ij}C_j\n",
    "\\end{equation}"
   ]
  },
  {
   "cell_type": "markdown",
   "metadata": {},
   "source": [
    "\n",
    "| Parameter symbol | Parameter name | Initial value |\n",
    "|---|---|---|\n",
    "| $N$ | Number of species | 3 |\n",
    "| $C_i$ | Species biomass | Obs |\n",
    "| $r_i$ | Maximum growth rate | Temperature dependent |\n",
    "| $\\alpha_{ii}$ | Intraspecies interaction | Temperature dependent |\n",
    "| $\\alpha_{ij}$ | Interspecies interaction | Temperature dependant |\n",
    "\n",
    "For positive interaction: $\\alpha_{ij}>0$; for negative interaction: $\\alpha_{ij}<0$"
   ]
  },
  {
   "cell_type": "markdown",
   "metadata": {},
   "source": [
    "Carrying capacity $K_i = r_i/\\alpha_{ii}$, if concentration close to carrying capacity $C_i \\approx K_i$??????"
   ]
  },
  {
   "cell_type": "markdown",
   "metadata": {},
   "source": [
    "### Temperature dependencies - using the Arrhenius for now\n",
    "\n",
    "\\begin{equation*}\n",
    "r_i = B_r \\times {e^{\\frac{-E_r}{k}\\cdot\\Bigl(\\frac{1}{T} - \\frac{1}{T_r}\\Bigl)}}\n",
    "\\end{equation*}\n",
    "\n",
    "\\begin{equation*}\n",
    "\\alpha_{ij} = B_\\alpha \\times {e^{\\frac{-E_\\alpha}{k}\\cdot\\Bigl(\\frac{1}{T} - \\frac{1}{T_r}\\Bigl)}}\n",
    "\\end{equation*}\n",
    "\n",
    "| Parameter symbol | Parameter name | Units | Initial value |\n",
    "|---|---|---|---|\n",
    "| $B$ | Normalisation constant | - | Obs |\n",
    "| $E$ | Activation energy | eV | Obs |\n",
    "| $k$ | Boltsmann constant | eV/K | $8.62$ $\\times 10^{-5}$ |\n",
    "| T | Temperature | K | 283.15-303.15 |\n",
    "| $T_r$| Reference temperature | K | 273.15 |"
   ]
  },
  {
   "cell_type": "markdown",
   "metadata": {},
   "source": [
    "### 3 species system (i & j & k)\n",
    "\n",
    "\\begin{equation*}\n",
    "\\frac{1}{C_i}\\frac{dC_i}{dt}  = \\alpha_{ij}C_j + \\alpha_{ik}C_k\n",
    "\\end{equation*}\n",
    "\n",
    "\\begin{equation*}\n",
    "\\frac{1}{C_j}\\frac{dC_j}{dt}  = \\alpha_{ji}C_i + \\alpha_{jk}C_k\n",
    "\\end{equation*}\n",
    "\n",
    "\\begin{equation*}\n",
    "\\frac{1}{C_k}\\frac{dC_k}{dt}  = \\alpha_{ki}C_i + \\alpha_{kj}C_j\n",
    "\\end{equation*}\n"
   ]
  },
  {
   "cell_type": "markdown",
   "metadata": {},
   "source": [
    "#### Interaction \n",
    "\n",
    "In pair-wise system (i & j) - from the interaction paper: \n",
    "\n",
    "$\\frac{dC_i}{dt}  =C_i(r_i+\\alpha_{ij}C_j)$; $\\frac{dC_j}{dt}  =C_j(r_j+\\alpha_{ji}C_i)$\n",
    "\n",
    "$C_i = C_j = \\frac{1}{2} C_{tot} $ and $\\alpha_{ij} = \\alpha_{ji} $, so $\\alpha_{ij} = 2r_{tot} - (r_i + r_j)$\n",
    "\n",
    "Approximate pair-wise interactions into 3 species system."
   ]
  },
  {
   "cell_type": "markdown",
   "metadata": {},
   "source": [
    "## The Microbial Community model"
   ]
  },
  {
   "cell_type": "markdown",
   "metadata": {},
   "source": [
    "\\begin{equation}\n",
    "dC_i/dt = C_i\\Bigl(\\sum_{j=1}^{M}U_{ij}S_j(1-\\sum_{k=1}^{M}l_{jk}) - R_i\\Bigl)\n",
    "\\end{equation}\n",
    "\n",
    "\\begin{equation}\n",
    "dS_j/dt = \\rho_j - \\sum_{i=1}^{N}\\Bigl(C_iU_{ij}S_j-\\sum_{k=1}^{M}C_iU_{ik}S_kl_{kj}\\Bigl)\n",
    "\\end{equation}"
   ]
  },
  {
   "cell_type": "markdown",
   "metadata": {},
   "source": [
    "### Temperature dependencies  using the Arrhenius for now\n",
    "\n",
    "\n",
    "\\begin{equation*}\n",
    "U_{ij} = B_{U} \\times {e^{\\frac{-E_U}{k}\\cdot\\Bigl(\\frac{1}{T} - \\frac{1}{T_r}\\Bigl)}}\n",
    "\\end{equation*}\n",
    "\n",
    "\\begin{equation*}\n",
    "R_i = B_{R} \\times {e^{\\frac{-E_R}{k}\\cdot\\Bigl(\\frac{1}{T} - \\frac{1}{T_r}\\Bigl)}}\n",
    "\\end{equation*}\n",
    "\n",
    "| Parameter symbol | Parameter name | Units | Initial value |\n",
    "|---|---|---|---|\n",
    "| $B$ | Normalisation constant | - | Obs |\n",
    "| $E$ | Activation energy | eV | Obs |\n",
    "| $k$ | Boltsmann constant | eV/K | $8.62$ $\\times 10^{-5}$ |\n",
    "| T | Temperature | K | 283.15-303.15 |\n",
    "| $T_r$| Reference temperature | K | 273.15 |"
   ]
  }
 ],
 "metadata": {
  "kernelspec": {
   "display_name": "Python 3",
   "language": "python",
   "name": "python3"
  },
  "language_info": {
   "codemirror_mode": {
    "name": "ipython",
    "version": 3
   },
   "file_extension": ".py",
   "mimetype": "text/x-python",
   "name": "python",
   "nbconvert_exporter": "python",
   "pygments_lexer": "ipython3",
   "version": "3.8.3"
  },
  "latex_envs": {
   "LaTeX_envs_menu_present": true,
   "autoclose": false,
   "autocomplete": true,
   "bibliofile": "biblio.bib",
   "cite_by": "apalike",
   "current_citInitial": 1,
   "eqLabelWithNumbers": true,
   "eqNumInitial": 1,
   "hotkeys": {
    "equation": "Ctrl-E",
    "itemize": "Ctrl-I"
   },
   "labels_anchors": false,
   "latex_user_defs": false,
   "report_style_numbering": false,
   "user_envs_cfg": false
  }
 },
 "nbformat": 4,
 "nbformat_minor": 4
}
