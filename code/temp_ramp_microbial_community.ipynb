{
 "cells": [
  {
   "cell_type": "markdown",
   "metadata": {},
   "source": [
    "# Impacts of changing temperature on microbial community structure and functioning\n",
    "\n",
    "Danica"
   ]
  },
  {
   "cell_type": "markdown",
   "metadata": {},
   "source": [
    "## The Lotka–Volterra model\n"
   ]
  },
  {
   "cell_type": "markdown",
   "metadata": {},
   "source": [
    "\\begin{equation}\n",
    "\\frac{1}{C_i}\\frac{dC_i}{dt}  =r_i(T) - \\alpha_{ii}(T)C_i+\\sum_{j \\neq i}^N \\alpha_{ij}(T)C_j\n",
    "\\end{equation}"
   ]
  },
  {
   "cell_type": "markdown",
   "metadata": {},
   "source": [
    "\n",
    "| Parameter symbol | Parameter name | Initial value |\n",
    "|---|---|---|\n",
    "| $N$ | Number of species | 3 |\n",
    "| $C_i$ | Species biomass | Obs |\n",
    "| $r_i$ | Maximum growth rate | Temperature dependent |\n",
    "| $\\alpha_{ii}$ | Intraspecies interaction | Temperature dependent |\n",
    "| $\\alpha_{ij}$ | Interspecies interaction | Temperature dependant |\n",
    "\n",
    "For positive interaction: $\\alpha_{ij}>0$; for negative interaction: $\\alpha_{ij}<0$"
   ]
  },
  {
   "cell_type": "markdown",
   "metadata": {},
   "source": [
    "### At steady state\n",
    "#### 1 species\n",
    "\n",
    "\\begin{equation*}\n",
    "C_i = \\frac{r_i}{\\alpha_{ii}}\n",
    "\\end{equation*}\n",
    "\n",
    "Carrying capacity $K_i = r_i/\\alpha_{ii}$\n",
    "\n",
    "#### 2 species\n",
    "\n",
    "\\begin{equation*}\n",
    "\\frac{dC_i}{dt}  =C_i(r_i - \\alpha_{ii}C_i +\\alpha C_j) ; \\frac{dC_j}{dt}  =C_j(r_j- \\alpha_{jj}C_j +\\alpha C_i)\n",
    "\\end{equation*}\n",
    "\n",
    "\\begin{equation*}\n",
    "C_i = \\frac{\\alpha_{jj}r_i + \\alpha r_j}{\\alpha_{ii}\\alpha_{jj} - \\alpha^2}\n",
    "\\end{equation*}\n",
    "\n",
    "#### Multiple species\n",
    "\n",
    "\\begin{equation*}\n",
    "C_i = \\frac{r_i + \\sum_{j \\neq i}^N \\alpha_{ij}C_j}{\\alpha_{ii}}\n",
    "\\end{equation*}"
   ]
  },
  {
   "cell_type": "markdown",
   "metadata": {},
   "source": [
    "#### Interaction \n",
    "\n",
    "In pair-wise system (i & j) - from the interaction paper: \n",
    "\n",
    "$\\frac{dC_i}{dt}  =C_i(r_i+\\alpha_{ij}C_j)$; $\\frac{dC_j}{dt}  =C_j(r_j+\\alpha_{ji}C_i)$\n",
    "\n",
    "$C_i = C_j = \\frac{1}{2} C_{tot} $ and $\\alpha_{ij} = \\alpha_{ji} $, so $\\alpha_{ij} = 2r_{tot} - (r_i + r_j)$\n",
    "\n",
    "Approximate pair-wise interactions into 3 species system."
   ]
  },
  {
   "cell_type": "markdown",
   "metadata": {},
   "source": [
    "## The Microbial Community model"
   ]
  },
  {
   "cell_type": "markdown",
   "metadata": {},
   "source": [
    "\\begin{equation}\n",
    "dC_i/dt = C_i\\Bigl(\\sum_{j=1}^{M}U_{ij}(T)S_j(1-\\sum_{k=1}^{M}l_{jk}) - R_i(T)\\Bigl)\n",
    "\\end{equation}\n",
    "\n",
    "\\begin{equation}\n",
    "dS_j/dt = \\rho_j - \\sum_{i=1}^{N}\\Bigl(C_iU_{ij}(T)S_j-\\sum_{k=1}^{M}C_iU_{ik}(T)S_kl_{kj}\\Bigl)\n",
    "\\end{equation}\n",
    "\n",
    "| Parameter symbol | Parameter name | Units | Initial value |\n",
    "|---|---|---|---|\n",
    "| $M$ | Number of resources | individuals  | ? |\n",
    "| $N$ | Number of species | individuals  | 3 |\n",
    "| $C_i$ | Bacteria population of species i | mass/volume | Obs |\n",
    "| $S_j$ | Concentration of resource j | g/mL | ? |\n",
    "| $U_{ij}$ | Uptake of resource j by species i | 1/time | Temperature dependant |\n",
    "| $R_i$ | Respiration of species i | mass/volume | Temperature dependant |\n",
    "| $l_{jk}$ | Leakage/transformation fraction | - | ? |\n",
    "| $\\rho_j$ | Supply of resource j | mass/volume | ? |"
   ]
  },
  {
   "cell_type": "markdown",
   "metadata": {},
   "source": [
    "### At steady state\n",
    "\n",
    "#### 1 species + 1 resource\n",
    "\\begin{equation*}\n",
    "S_j = \\frac{R_i}{U_{ij}(1-l)} ; C_i = \\frac{\\rho_j}{R_i}\n",
    "\\end{equation*}\n"
   ]
  },
  {
   "cell_type": "markdown",
   "metadata": {},
   "source": [
    "### Temperature dependencies - using the Arrhenius for now\n",
    "\n",
    "\n",
    "\\begin{equation*}\n",
    "B = B_0 \\times {e^{\\frac{-E}{k}\\cdot\\Bigl(\\frac{1}{T} - \\frac{1}{T_r}\\Bigl)}}\n",
    "\\end{equation*}\n",
    "\n",
    "\n",
    "| Parameter symbol | Parameter name | Units | Initial value |\n",
    "|---|---|---|---|\n",
    "| $B$ | Normalisation constant | - | Obs |\n",
    "| $E$ | Activation energy | eV | Obs |\n",
    "| $k$ | Boltsmann constant | eV/K | $8.62$ $\\times 10^{-5}$ |\n",
    "| T | Temperature | K | 283.15-303.15 |\n",
    "| $T_r$| Reference temperature | K | 273.15 |"
   ]
  }
 ],
 "metadata": {
  "kernelspec": {
   "display_name": "Python 3",
   "language": "python",
   "name": "python3"
  },
  "language_info": {
   "codemirror_mode": {
    "name": "ipython",
    "version": 3
   },
   "file_extension": ".py",
   "mimetype": "text/x-python",
   "name": "python",
   "nbconvert_exporter": "python",
   "pygments_lexer": "ipython3",
   "version": "3.8.3"
  },
  "latex_envs": {
   "LaTeX_envs_menu_present": true,
   "autoclose": false,
   "autocomplete": true,
   "bibliofile": "biblio.bib",
   "cite_by": "apalike",
   "current_citInitial": 1,
   "eqLabelWithNumbers": true,
   "eqNumInitial": 1,
   "hotkeys": {
    "equation": "Ctrl-E",
    "itemize": "Ctrl-I"
   },
   "labels_anchors": false,
   "latex_user_defs": false,
   "report_style_numbering": false,
   "user_envs_cfg": false
  }
 },
 "nbformat": 4,
 "nbformat_minor": 4
}
